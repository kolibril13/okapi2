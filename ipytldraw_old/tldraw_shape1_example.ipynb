{
 "cells": [
  {
   "cell_type": "code",
   "execution_count": 1,
   "id": "1ff77072-c2ca-4567-ad89-a39fa33ce93c",
   "metadata": {
    "tags": []
   },
   "outputs": [],
   "source": [
    "%load_ext ipyreact"
   ]
  },
  {
   "cell_type": "markdown",
   "id": "c816a67e",
   "metadata": {},
   "source": [
    "basic shape example (code comes from https://github.com/tldraw/tldraw/blob/b306d7cb41cbfc8372fbc5469e657e4a85d2917b/examples/tldraw-example/src/api.tsx#L14-L27)"
   ]
  },
  {
   "cell_type": "code",
   "execution_count": 2,
   "id": "2329d2f5-b791-4d4a-be6e-33696e8085bf",
   "metadata": {
    "tags": []
   },
   "outputs": [
    {
     "data": {
      "application/vnd.jupyter.widget-view+json": {
       "model_id": "7a79c68e4d0140b4bd9a1876e2df7f6b",
       "version_major": 2,
       "version_minor": 0
      },
      "text/plain": [
       "Widget()"
      ]
     },
     "metadata": {},
     "output_type": "display_data"
    }
   ],
   "source": [
    "%%react\n",
    "\n",
    "import { TDShapeType, Tldraw } from \"@tldraw/tldraw\";\n",
    "import * as React from \"react\";\n",
    "\n",
    "export default function App() {\n",
    "\n",
    "  const handleMount = React.useCallback((app: Tldraw) => {\n",
    "\n",
    "    app.createShapes({\n",
    "      id: \"rect1\",\n",
    "      type: TDShapeType.Rectangle,\n",
    "      point: [100, 100],\n",
    "      size: [500, 200],\n",
    "    });\n",
    "  });\n",
    "\n",
    "  return (\n",
    "    <div\n",
    "      style={{\n",
    "        position: \"relative\",\n",
    "        width: \"800px\",\n",
    "        height: \"350px\",\n",
    "      }}\n",
    "    >\n",
    "      <Tldraw onMount={handleMount} />\n",
    "    </div>\n",
    "  );\n",
    "}\n"
   ]
  },
  {
   "cell_type": "code",
   "execution_count": 3,
   "id": "d6377303",
   "metadata": {},
   "outputs": [
    {
     "data": {
      "application/vnd.jupyter.widget-view+json": {
       "model_id": "a541cb694f154cdb9d3545651aca083b",
       "version_major": 2,
       "version_minor": 0
      },
      "text/plain": [
       "Widget()"
      ]
     },
     "metadata": {},
     "output_type": "display_data"
    }
   ],
   "source": [
    "%%react\n",
    "\n",
    "import { TDShapeType, Tldraw } from '@tldraw/tldraw'\n",
    "import * as React from 'react'\n",
    "\n",
    "\n",
    "export default function App() {\n",
    "\n",
    "  const handleMount = React.useCallback((app: Tldraw) => {\n",
    "    app\n",
    "    .createShapes({\n",
    "      id: 'text1',\n",
    "      type: TDShapeType.Text,\n",
    "      point: [100, 100],\n",
    "      text: 'Hello World',\n",
    "    })\n",
    "  })\n",
    "\n",
    "  return (\n",
    "     <div\n",
    "      style={{\n",
    "        position: \"relative\",\n",
    "        width: \"800px\",\n",
    "        height: \"350px\"\n",
    "      }}\n",
    "    >\n",
    "      <Tldraw onMount={handleMount} />\n",
    "    </div>\n",
    "  )\n",
    "}"
   ]
  },
  {
   "cell_type": "markdown",
   "id": "307a9bf5",
   "metadata": {},
   "source": [
    "and now an Ellipse"
   ]
  },
  {
   "cell_type": "code",
   "execution_count": null,
   "id": "87a3e99b",
   "metadata": {
    "tags": []
   },
   "outputs": [],
   "source": [
    "%%react\n",
    "\n",
    "import { ColorStyle, TDShapeType, Tldraw, TldrawApp } from '@tldraw/tldraw'\n",
    "import * as React from 'react'\n",
    "\n",
    "declare const window: Window & { app: TldrawApp }\n",
    "\n",
    "export default function Api() {\n",
    "  const rTldrawApp = React.useRef<TldrawApp>()\n",
    "\n",
    "  const handleMount = React.useCallback((app: TldrawApp) => {\n",
    "    rTldrawApp.current = app\n",
    "\n",
    "    window.app = app\n",
    "\n",
    "    app\n",
    "      .createShapes({\n",
    "        id: 'ob1',\n",
    "        type: TDShapeType.Ellipse,\n",
    "        point: [100, 100],\n",
    "        radius: [100, 100],\n",
    "      })\n",
    "      .createShapes({\n",
    "        id: 'ob2',\n",
    "        type: TDShapeType.Rectangle,\n",
    "        point: [325, 100],\n",
    "        size: [200, 200],\n",
    "      })\n",
    "      .createShapes({\n",
    "        id: 'ob3',\n",
    "        type: TDShapeType.Image,\n",
    "        point: [550, 100],\n",
    "        size: [200, 200],\n",
    "        image: 'https://tldraw.com/social-image.png'\n",
    "      })\n",
    "\n",
    "  })\n",
    "\n",
    "  return (\n",
    "     <div\n",
    "      style={{\n",
    "        position: \"relative\",\n",
    "        width: \"800px\",\n",
    "        height: \"350px\"\n",
    "      }}\n",
    "    >\n",
    "      <Tldraw onMount={handleMount} />\n",
    "    </div>\n",
    "  )\n",
    "}"
   ]
  },
  {
   "cell_type": "markdown",
   "id": "68b8a80e",
   "metadata": {},
   "source": [
    "and now for an image"
   ]
  },
  {
   "cell_type": "code",
   "execution_count": null,
   "id": "839bd6d2",
   "metadata": {
    "tags": []
   },
   "outputs": [],
   "source": [
    "%%react\n",
    "\n",
    "import { ColorStyle, TDShapeType, Tldraw, TldrawApp } from '@tldraw/tldraw'\n",
    "import * as React from 'react'\n",
    "\n",
    "declare const window: Window & { app: TldrawApp }\n",
    "\n",
    "export default function Api() {\n",
    "  const rTldrawApp = React.useRef<TldrawApp>()\n",
    "\n",
    "  const handleMount = React.useCallback((app: TldrawApp) => {\n",
    "    rTldrawApp.current = app\n",
    "\n",
    "    window.app = app\n",
    "\n",
    "    app\n",
    "      .createShapes({\n",
    "        id: 'rect1',\n",
    "        type: TDShapeType.Image,\n",
    "        point: [100, 100],\n",
    "        size: [200, 200],\n",
    "        image: 'https://tldraw.com/social-image.png'\n",
    "      })\n",
    "  })\n",
    "\n",
    "  return (\n",
    "     <div\n",
    "      style={{\n",
    "        position: \"relative\",\n",
    "        width: \"800px\",\n",
    "        height: \"350px\"\n",
    "      }}\n",
    "    >\n",
    "      <Tldraw onMount={handleMount} />\n",
    "    </div>\n",
    "  )\n",
    "}"
   ]
  },
  {
   "cell_type": "markdown",
   "id": "6112eef3-b4e6-4e3f-9a43-d4dafae736fc",
   "metadata": {
    "tags": []
   },
   "source": [
    "another example to embed image using patchAssets from https://codesandbox.io/s/tldraw-image-asset-example-24zhkr?file=/src/App.tsx"
   ]
  },
  {
   "cell_type": "code",
   "execution_count": null,
   "id": "f68e4091",
   "metadata": {
    "tags": []
   },
   "outputs": [],
   "source": [
    "%%react\n",
    "\n",
    "import { ColorStyle, TDShapeType, Tldraw, TldrawApp } from '@tldraw/tldraw'\n",
    "import * as React from 'react'\n",
    "\n",
    "declare const window: Window & { app: TldrawApp }\n",
    "\n",
    "export default function Api() {\n",
    "  const rTldrawApp = React.useRef<TldrawApp>()\n",
    "\n",
    "  const handleMount = React.useCallback((app: TldrawApp) => {\n",
    "    rTldrawApp.current = app\n",
    "\n",
    "    window.app = app\n",
    "\n",
    "    app\n",
    "      .createShapes({\n",
    "        id: 'rect1',\n",
    "        type: TDShapeType.Image,\n",
    "        point: [100, 100],\n",
    "        size: [200, 200],\n",
    "        image: 'https://tldraw.com/social-image.png'\n",
    "      })\n",
    "\n",
    "\n",
    "    app.patchAssets({\n",
    "      myAssetId: {\n",
    "        id: \"myAssetId\",\n",
    "        type: TDAssetType.Image,\n",
    "        point: [100, 100],\n",
    "        size: [820, 240],\n",
    "        fileName: \"card-repo.png\",\n",
    "        src: \"https://github.com/tldraw/tldraw/raw/main/assets/card-repo.png\"\n",
    "      }\n",
    "    });\n",
    "\n",
    "    app.createShapes({\n",
    "      id: \"myImage\",\n",
    "      type: TDShapeType.Image,\n",
    "      assetId: \"myAssetId\",\n",
    "      point: [64, 64],\n",
    "      size: [820, 240],\n",
    "    });\n",
    "\n",
    "  })\n",
    "\n",
    "  return (\n",
    "     <div\n",
    "      style={{\n",
    "        position: \"relative\",\n",
    "        width: \"800px\",\n",
    "        height: \"350px\"\n",
    "      }}\n",
    "    >\n",
    "      <Tldraw onMount={handleMount} />\n",
    "    </div>\n",
    "  )\n",
    "}"
   ]
  },
  {
   "cell_type": "code",
   "execution_count": null,
   "id": "56e7bd0e",
   "metadata": {},
   "outputs": [],
   "source": []
  }
 ],
 "metadata": {
  "kernelspec": {
   "display_name": "Python 3 (ipykernel)",
   "language": "python",
   "name": "python3"
  },
  "language_info": {
   "codemirror_mode": {
    "name": "ipython",
    "version": 3
   },
   "file_extension": ".py",
   "mimetype": "text/x-python",
   "name": "python",
   "nbconvert_exporter": "python",
   "pygments_lexer": "ipython3",
   "version": "3.11.3"
  }
 },
 "nbformat": 4,
 "nbformat_minor": 5
}
