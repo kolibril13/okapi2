{
 "cells": [
  {
   "cell_type": "code",
   "execution_count": 3,
   "metadata": {},
   "outputs": [
    {
     "data": {
      "text/html": [
       "<link rel=\"stylesheet\" href=\"styles.css\">\n"
      ],
      "text/plain": [
       "<IPython.core.display.HTML object>"
      ]
     },
     "metadata": {},
     "output_type": "display_data"
    }
   ],
   "source": [
    "%%html\n",
    "<link rel=\"stylesheet\" href=\"styles.css\">"
   ]
  },
  {
   "cell_type": "code",
   "execution_count": 1,
   "metadata": {},
   "outputs": [
    {
     "name": "stdout",
     "output_type": "stream",
     "text": [
      "Rectangle was created at 230 and 30 \n"
     ]
    },
    {
     "data": {
      "application/vnd.jupyter.widget-view+json": {
       "model_id": "7af3f46c239143648056a8cd32d92ac6",
       "version_major": 2,
       "version_minor": 0
      },
      "text/plain": [
       "Tldraw(my_x=230, my_y=30)"
      ]
     },
     "execution_count": 1,
     "metadata": {},
     "output_type": "execute_result"
    }
   ],
   "source": [
    "import ipyreact\n",
    "from traitlets import Any, Unicode, Int, observe, signature_has_traits\n",
    "\n",
    "@signature_has_traits\n",
    "class Tldraw(ipyreact.ReactWidget):\n",
    "    my_x = Int(100).tag(sync=True)\n",
    "    my_y = Int(100).tag(sync=True)\n",
    "\n",
    "    def print_message(self):\n",
    "        print(f\"Rectangle was created at {self.my_x} and {self.my_y} \")\n",
    "        \n",
    "    def __init__(self, **kwargs):\n",
    "        super().__init__(**kwargs)\n",
    "        self.print_message()\n",
    "\n",
    "    _esm = \"\"\"\n",
    "\n",
    "    import { ColorStyle, TDShapeType, Tldraw, TldrawApp } from '@tldraw/tldraw'\n",
    "    import * as React from 'react'\n",
    "\n",
    "    declare const window: Window & { app: TldrawApp }\n",
    "\n",
    "    export default function Api({my_x, my_y}) {\n",
    "    const rTldrawApp = React.useRef<TldrawApp>()\n",
    "\n",
    "    const handleMount = React.useCallback((app: TldrawApp) => {\n",
    "        rTldrawApp.current = app\n",
    "\n",
    "        window.app = app\n",
    "\n",
    "        app\n",
    "        .createShapes({\n",
    "            id: 'rect1',\n",
    "            type: TDShapeType.Rectangle,\n",
    "            point: [my_x, my_y],\n",
    "            size: [200, 200],\n",
    "        })\n",
    "    })\n",
    "\n",
    "    return (\n",
    "        <div\n",
    "        style={{\n",
    "            position: \"relative\",\n",
    "            width: \"800px\",\n",
    "            height: \"350px\"\n",
    "        }}\n",
    "        >\n",
    "        <Tldraw onMount={handleMount} />\n",
    "        </div>\n",
    "    )\n",
    "        }\"\"\"\n",
    "\n",
    "Tldraw(my_x= 230,my_y = 30)"
   ]
  },
  {
   "cell_type": "code",
   "execution_count": 3,
   "metadata": {},
   "outputs": [],
   "source": [
    "css_rules = \"\"\"\n",
    "  html,\n",
    "  * {\n",
    "    box-sizing: border-box;\n",
    "  }\n",
    "\n",
    "  body {\n",
    "    overflow: hidden;\n",
    "    position: fixed;\n",
    "    overscroll-behavior: none;\n",
    "    padding: 0px;\n",
    "    margin: 0px;\n",
    "    font-family: sans-serif;\n",
    "  }\n",
    "  \"\"\"\n",
    "from IPython.display import HTML\n",
    "\n",
    "HTML('<style>' + css_rules + '</style>');"
   ]
  },
  {
   "cell_type": "code",
   "execution_count": null,
   "metadata": {},
   "outputs": [],
   "source": []
  }
 ],
 "metadata": {
  "kernelspec": {
   "display_name": "Python 3 (ipykernel)",
   "language": "python",
   "name": "python3"
  },
  "language_info": {
   "codemirror_mode": {
    "name": "ipython",
    "version": 3
   },
   "file_extension": ".py",
   "mimetype": "text/x-python",
   "name": "python",
   "nbconvert_exporter": "python",
   "pygments_lexer": "ipython3",
   "version": "3.11.3"
  }
 },
 "nbformat": 4,
 "nbformat_minor": 4
}
