{
 "cells": [
  {
   "cell_type": "code",
   "execution_count": 1,
   "id": "1ff77072-c2ca-4567-ad89-a39fa33ce93c",
   "metadata": {
    "tags": []
   },
   "outputs": [],
   "source": [
    "%load_ext ipyreact"
   ]
  },
  {
   "cell_type": "markdown",
   "id": "c816a67e",
   "metadata": {},
   "source": [
    "basic shape example (code comes from https://github.com/tldraw/tldraw/blob/b306d7cb41cbfc8372fbc5469e657e4a85d2917b/examples/tldraw-example/src/api.tsx#L14-L27)"
   ]
  },
  {
   "cell_type": "code",
   "execution_count": 2,
   "id": "2329d2f5-b791-4d4a-be6e-33696e8085bf",
   "metadata": {
    "tags": []
   },
   "outputs": [
    {
     "data": {
      "application/vnd.jupyter.widget-view+json": {
       "model_id": "c0978492d2a04a35a3243dab8537ac8c",
       "version_major": 2,
       "version_minor": 0
      },
      "text/plain": [
       "Widget()"
      ]
     },
     "metadata": {},
     "output_type": "display_data"
    }
   ],
   "source": [
    "%%react\n",
    "\n",
    "import { ColorStyle, TDShapeType, Tldraw, TldrawApp } from '@tldraw/tldraw'\n",
    "import * as React from 'react'\n",
    "\n",
    "declare const window: Window & { app: TldrawApp }\n",
    "\n",
    "export default function Api() {\n",
    "  const rTldrawApp = React.useRef<TldrawApp>()\n",
    "\n",
    "  const handleMount = React.useCallback((app: TldrawApp) => {\n",
    "    rTldrawApp.current = app\n",
    "\n",
    "    window.app = app\n",
    "\n",
    "    app\n",
    "    .createShapes({\n",
    "      id: 'text1',\n",
    "      type: TDShapeType.Text,\n",
    "      point: [100, 100],\n",
    "      text: 'Hello World',\n",
    "    })\n",
    "  })\n",
    "\n",
    "  return (\n",
    "     <div\n",
    "      style={{\n",
    "        position: \"relative\",\n",
    "        width: \"800px\",\n",
    "        height: \"350px\"\n",
    "      }}\n",
    "    >\n",
    "      <Tldraw onMount={handleMount} />\n",
    "    </div>\n",
    "  )\n",
    "}"
   ]
  },
  {
   "cell_type": "code",
   "execution_count": null,
   "id": "a4e5e347",
   "metadata": {},
   "outputs": [],
   "source": []
  }
 ],
 "metadata": {
  "kernelspec": {
   "display_name": "Python 3 (ipykernel)",
   "language": "python",
   "name": "python3"
  },
  "language_info": {
   "codemirror_mode": {
    "name": "ipython",
    "version": 3
   },
   "file_extension": ".py",
   "mimetype": "text/x-python",
   "name": "python",
   "nbconvert_exporter": "python",
   "pygments_lexer": "ipython3",
   "version": "3.11.3"
  }
 },
 "nbformat": 4,
 "nbformat_minor": 5
}
