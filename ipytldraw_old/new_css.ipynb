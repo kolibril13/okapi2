{
 "cells": [
  {
   "cell_type": "markdown",
   "id": "9060ba05-29b6-46e2-844b-6fbbe4c9e43c",
   "metadata": {},
   "source": [
    "# Jupyter-TLDRAW Tour\n",
    "\n",
    "first we start with loading the extension and defining the css:"
   ]
  },
  {
   "cell_type": "code",
   "execution_count": 3,
   "id": "87d8290c",
   "metadata": {
    "tags": []
   },
   "outputs": [],
   "source": [
    "%load_ext ipyreact"
   ]
  },
  {
   "cell_type": "code",
   "execution_count": null,
   "id": "d66383bc-29b2-447a-85b5-a9dbfd8395b7",
   "metadata": {
    "tags": []
   },
   "outputs": [],
   "source": [
    "%%react\n",
    "\n",
    "import * as React from \"react\";\n",
    "import { Tldraw } from \"@tldraw/tldraw\";\n",
    "\n",
    "export default function App() {\n",
    "  return (\n",
    "    <div\n",
    "      style={{\n",
    "        position: \"relative\",\n",
    "        width: \"860px\",\n",
    "        height: \"300px\"\n",
    "      }}\n",
    "    >\n",
    "      <Tldraw/>\n",
    "    </div>\n",
    "  );\n",
    "}"
   ]
  },
  {
   "cell_type": "code",
   "execution_count": null,
   "id": "ef15be8e",
   "metadata": {},
   "outputs": [],
   "source": [
    "from IPython.display import HTML\n",
    "from pathlib import Path\n",
    "css_rules = Path('styles_JupyterLab.css').read_text()\n",
    "# css_rules = Path('styles_VSCode.css').read_text() # <- use this for VSCode\n",
    "\n",
    "HTML('<style>' + css_rules + '</style>')"
   ]
  },
  {
   "cell_type": "markdown",
   "id": "95c60080",
   "metadata": {
    "tags": []
   },
   "source": [
    "this can also be used as a Widget"
   ]
  },
  {
   "cell_type": "code",
   "execution_count": 8,
   "id": "1b6963bf",
   "metadata": {},
   "outputs": [
    {
     "data": {
      "application/vnd.jupyter.widget-view+json": {
       "model_id": "a27b518491904909be6d9da5f0455b23",
       "version_major": 2,
       "version_minor": 0
      },
      "text/plain": [
       "Tldraw()"
      ]
     },
     "execution_count": 8,
     "metadata": {},
     "output_type": "execute_result"
    }
   ],
   "source": [
    "\n",
    "class Tldraw(ipyreact.ReactWidget):\n",
    "    _esm = \"\"\"\n",
    "    import * as React from \"react\";\n",
    "    import { Tldraw, TldrawApp } from \"@tldraw/tldraw\";\n",
    "\n",
    "    export default function App() {\n",
    "    const persistenceId = \"tldraw-example1\";\n",
    "\n",
    "    const handleMount = (app: TldrawApp) => {\n",
    "        // You can use the app API here! e.g. app.selectAll()\n",
    "    };\n",
    "\n",
    "    return (\n",
    "        <div\n",
    "        style={{\n",
    "            position: \"relative\",\n",
    "            width: \"800px\",\n",
    "            height: \"350px\"\n",
    "        }}\n",
    "        >\n",
    "        <Tldraw id={persistenceId} onMount={handleMount} />\n",
    "        </div>\n",
    "    );\n",
    "    }\"\"\"\n",
    "Tldraw()"
   ]
  },
  {
   "cell_type": "code",
   "execution_count": 1,
   "id": "e7d82314-da20-49bb-928e-72f34a9019d0",
   "metadata": {
    "tags": []
   },
   "outputs": [],
   "source": [
    "from IPython.display import HTML\n",
    "css_rules = \"\"\"\n",
    "html,\n",
    "* {\n",
    "  box-sizing: border-box;\n",
    "}\n",
    "\n",
    "body {\n",
    "  overflow: hidden;\n",
    "  position: fixed;\n",
    "  overscroll-behavior: none;\n",
    "  padding: 0px;\n",
    "  margin: 0px;\n",
    "  font-family: sans-serif;\n",
    "}\n",
    "\n",
    "\"\"\"\n",
    "HTML('<style>' + css_rules + '</style>');\n"
   ]
  },
  {
   "cell_type": "code",
   "execution_count": 7,
   "id": "a7f2d342-b171-4ddd-842e-bbaaab252968",
   "metadata": {
    "tags": []
   },
   "outputs": [],
   "source": [
    "import ipyreact"
   ]
  },
  {
   "cell_type": "code",
   "execution_count": null,
   "id": "700ae1c8-5e71-4aaf-b08b-3d4866f1a19a",
   "metadata": {},
   "outputs": [],
   "source": []
  }
 ],
 "metadata": {
  "kernelspec": {
   "display_name": "Python 3 (ipykernel)",
   "language": "python",
   "name": "python3"
  },
  "language_info": {
   "codemirror_mode": {
    "name": "ipython",
    "version": 3
   },
   "file_extension": ".py",
   "mimetype": "text/x-python",
   "name": "python",
   "nbconvert_exporter": "python",
   "pygments_lexer": "ipython3",
   "version": "3.11.3"
  }
 },
 "nbformat": 4,
 "nbformat_minor": 5
}
