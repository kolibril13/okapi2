{
 "cells": [
  {
   "cell_type": "code",
   "execution_count": null,
   "metadata": {},
   "outputs": [],
   "source": [
    "from manim import *\n",
    "param = \"-v WARNING -r 500,180 -s  --disable_caching Example\""
   ]
  },
  {
   "cell_type": "code",
   "execution_count": null,
   "metadata": {},
   "outputs": [],
   "source": [
    "config.background_color = BLUE_D\n",
    "Circle.set_default(color=YELLOW_D,fill_opacity=1)\n",
    "Square.set_default(color=YELLOW,fill_opacity=1)\n",
    "Triangle.set_default(color=YELLOW_D,fill_opacity=1)"
   ]
  },
  {
   "cell_type": "code",
   "execution_count": null,
   "metadata": {},
   "outputs": [],
   "source": [
    "class Example(Scene):\n",
    "    def construct(self):\n",
    "        circle = Circle().shift(LEFT)\n",
    "        square = Square().shift(UP)\n",
    "        triangle = Triangle().shift(RIGHT)\n",
    "        logo = VGroup(triangle, square, circle).move_to(ORIGIN).scale(1.5)\n",
    "        self.add(logo)\n",
    "%manim $param"
   ]
  },
  {
   "cell_type": "code",
   "execution_count": null,
   "metadata": {},
   "outputs": [],
   "source": [
    "class Example(Scene):\n",
    "    def construct(self):\n",
    "        self.add( Square().scale(2.3),Circle().scale(1.7))\n",
    "%manim $param"
   ]
  },
  {
   "cell_type": "code",
   "execution_count": null,
   "metadata": {},
   "outputs": [],
   "source": []
  }
 ],
 "metadata": {
  "kernelspec": {
   "display_name": ".venv",
   "language": "python",
   "name": "python3"
  },
  "language_info": {
   "codemirror_mode": {
    "name": "ipython",
    "version": 3
   },
   "file_extension": ".py",
   "mimetype": "text/x-python",
   "name": "python",
   "nbconvert_exporter": "python",
   "pygments_lexer": "ipython3",
   "version": "3.11.2"
  },
  "orig_nbformat": 4
 },
 "nbformat": 4,
 "nbformat_minor": 2
}
