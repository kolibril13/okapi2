{
 "cells": [
  {
   "cell_type": "code",
   "execution_count": 1,
   "id": "556b40f4-e571-4d0a-b23e-f2617356dead",
   "metadata": {
    "tags": []
   },
   "outputs": [],
   "source": [
    "import pathlib\n",
    "import anywidget\n",
    "import traitlets"
   ]
  },
  {
   "cell_type": "code",
   "execution_count": 2,
   "id": "62ad20de-0eeb-4b36-ba3d-fbb7272039bd",
   "metadata": {
    "tags": []
   },
   "outputs": [
    {
     "data": {
      "application/vnd.jupyter.widget-view+json": {
       "model_id": "b07909260897481f9a3008d1c9565ede",
       "version_major": 2,
       "version_minor": 0
      },
      "text/plain": [
       "Widget1()"
      ]
     },
     "execution_count": 2,
     "metadata": {},
     "output_type": "execute_result"
    }
   ],
   "source": [
    "class Widget1(anywidget.AnyWidget):\n",
    "    _esm = \"\"\"\n",
    "    export function render(view) {\n",
    "        console.log(\"Hello World 1\")\n",
    "    }\n",
    "    \"\"\"\n",
    "Widget1()"
   ]
  },
  {
   "cell_type": "code",
   "execution_count": 3,
   "id": "be435663-62cd-4fd4-9fca-3f246443bbcd",
   "metadata": {},
   "outputs": [
    {
     "data": {
      "application/vnd.jupyter.widget-view+json": {
       "model_id": "7c95a308b64a47359c6837537e68b325",
       "version_major": 2,
       "version_minor": 0
      },
      "text/plain": [
       "Widget2()"
      ]
     },
     "execution_count": 3,
     "metadata": {},
     "output_type": "execute_result"
    }
   ],
   "source": [
    "class Widget2(anywidget.AnyWidget):\n",
    "    _esm = pathlib.Path(\"index.js\")\n",
    "\n",
    "Widget2()"
   ]
  },
  {
   "cell_type": "code",
   "execution_count": 4,
   "id": "f9f94ef7-c28d-4a49-927b-5bbdfe771e6d",
   "metadata": {},
   "outputs": [
    {
     "data": {
      "application/vnd.jupyter.widget-view+json": {
       "model_id": "0b6fa21843654c13ae3dc8f738434f5f",
       "version_major": 2,
       "version_minor": 0
      },
      "text/plain": [
       "Widget3()"
      ]
     },
     "execution_count": 4,
     "metadata": {},
     "output_type": "execute_result"
    }
   ],
   "source": [
    "class Widget3(anywidget.AnyWidget):\n",
    "    _esm = pathlib.Path(\"confetti.js\")\n",
    "\n",
    "Widget3()"
   ]
  },
  {
   "cell_type": "code",
   "execution_count": 5,
   "id": "29f794e4-ac27-45d7-a42c-9a1572a29d92",
   "metadata": {
    "tags": []
   },
   "outputs": [
    {
     "data": {
      "application/vnd.jupyter.widget-view+json": {
       "model_id": "abbcbd545e9849b28788c91e63908247",
       "version_major": 2,
       "version_minor": 0
      },
      "text/plain": [
       "Widget4()"
      ]
     },
     "execution_count": 5,
     "metadata": {},
     "output_type": "execute_result"
    }
   ],
   "source": [
    "class Widget4(anywidget.AnyWidget):\n",
    "    _esm = pathlib.Path(\"confetti-random.js\")\n",
    "\n",
    "Widget4()"
   ]
  }
 ],
 "metadata": {
  "kernelspec": {
   "display_name": "Python 3 (ipykernel)",
   "language": "python",
   "name": "python3"
  },
  "language_info": {
   "codemirror_mode": {
    "name": "ipython",
    "version": 3
   },
   "file_extension": ".py",
   "mimetype": "text/x-python",
   "name": "python",
   "nbconvert_exporter": "python",
   "pygments_lexer": "ipython3",
   "version": "3.11.2"
  }
 },
 "nbformat": 4,
 "nbformat_minor": 5
}
