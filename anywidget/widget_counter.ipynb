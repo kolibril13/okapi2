{
 "cells": [
  {
   "cell_type": "code",
   "execution_count": 1,
   "metadata": {
    "tags": []
   },
   "outputs": [
    {
     "data": {
      "application/vnd.jupyter.widget-view+json": {
       "model_id": "2bcdd29e7c3345d3abb7d3b4308520c5",
       "version_major": 2,
       "version_minor": 0
      },
      "text/plain": [
       "CounterWidget(count=42)"
      ]
     },
     "execution_count": 1,
     "metadata": {},
     "output_type": "execute_result"
    }
   ],
   "source": [
    "import anywidget\n",
    "import traitlets\n",
    "\n",
    "\n",
    "class CounterWidget(anywidget.AnyWidget):\n",
    "    _esm = \"\"\"\n",
    "    export function render(view) {\n",
    "      let getCount = () => view.model.get(\"count\");\n",
    "      let button = document.createElement(\"button\");\n",
    "      button.classList.add(\"counter-button\");\n",
    "      button.innerHTML = `count is ${getCount()}`;\n",
    "      button.addEventListener(\"click\", () => {\n",
    "        view.model.set(\"count\", getCount() + 1);\n",
    "        view.model.save_changes();\n",
    "      });\n",
    "      view.model.on(\"change:count\", () => {\n",
    "        button.innerHTML = `count is ${getCount()}`;\n",
    "      });\n",
    "      view.el.appendChild(button);\n",
    "    }\n",
    "    \"\"\"\n",
    "    _css=\"\"\"\n",
    "    .counter-button { background-color: #ea580c; }\n",
    "    .counter-button:hover { background-color: #9a3412; }\n",
    "    \"\"\"\n",
    "    count = traitlets.Int(0).tag(sync=True)\n",
    "\n",
    "counter = CounterWidget()\n",
    "counter.count = 42\n",
    "counter\n"
   ]
  },
  {
   "cell_type": "code",
   "execution_count": 2,
   "metadata": {
    "tags": []
   },
   "outputs": [],
   "source": [
    "counter.count = 49"
   ]
  },
  {
   "cell_type": "code",
   "execution_count": 3,
   "metadata": {
    "tags": []
   },
   "outputs": [
    {
     "data": {
      "application/vnd.jupyter.widget-view+json": {
       "model_id": "2bcdd29e7c3345d3abb7d3b4308520c5",
       "version_major": 2,
       "version_minor": 0
      },
      "text/plain": [
       "CounterWidget(count=49)"
      ]
     },
     "execution_count": 3,
     "metadata": {},
     "output_type": "execute_result"
    }
   ],
   "source": [
    "counter"
   ]
  },
  {
   "cell_type": "code",
   "execution_count": null,
   "metadata": {},
   "outputs": [],
   "source": []
  }
 ],
 "metadata": {
  "kernelspec": {
   "display_name": "Python 3 (ipykernel)",
   "language": "python",
   "name": "python3"
  },
  "language_info": {
   "codemirror_mode": {
    "name": "ipython",
    "version": 3
   },
   "file_extension": ".py",
   "mimetype": "text/x-python",
   "name": "python",
   "nbconvert_exporter": "python",
   "pygments_lexer": "ipython3",
   "version": "3.11.2"
  }
 },
 "nbformat": 4,
 "nbformat_minor": 4
}
