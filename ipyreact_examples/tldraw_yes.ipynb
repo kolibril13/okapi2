{
 "cells": [
  {
   "cell_type": "code",
   "execution_count": 1,
   "id": "1ff77072-c2ca-4567-ad89-a39fa33ce93c",
   "metadata": {
    "tags": []
   },
   "outputs": [],
   "source": [
    "%load_ext ipyreact"
   ]
  },
  {
   "cell_type": "code",
   "execution_count": 3,
   "id": "a6f3d4ba-6982-4128-ab97-f511fd2632db",
   "metadata": {
    "tags": []
   },
   "outputs": [
    {
     "data": {
      "application/vnd.jupyter.widget-view+json": {
       "model_id": "1ed6d231118841c5a5da9b55c65d4a1a",
       "version_major": 2,
       "version_minor": 0
      },
      "text/plain": [
       "Widget()"
      ]
     },
     "metadata": {},
     "output_type": "display_data"
    }
   ],
   "source": [
    "%%react\n",
    "\n",
    "import * as React from \"react\";\n",
    "import { Tldraw, TldrawApp } from \"@tldraw/tldraw\";\n",
    "\n",
    "export default function App() {\n",
    "  const persistenceId = \"tldraw-exampleSO\";\n",
    "\n",
    "  const handleMount = (app: TldrawApp) => {\n",
    "  }\n",
    "\n",
    "  return (\n",
    "    <div\n",
    "      style={{\n",
    "        position: \"relative\",\n",
    "        width: \"800px\",\n",
    "        height: \"350px\"\n",
    "      }}\n",
    "    >\n",
    "      <Tldraw id={persistenceId} onMount={handleMount} />\n",
    "    </div>\n",
    "  )\n",
    "}"
   ]
  },
  {
   "cell_type": "code",
   "execution_count": 6,
   "id": "2329d2f5-b791-4d4a-be6e-33696e8085bf",
   "metadata": {
    "tags": []
   },
   "outputs": [
    {
     "data": {
      "application/vnd.jupyter.widget-view+json": {
       "model_id": "7d91aa90193b4e6e83b1066263d455eb",
       "version_major": 2,
       "version_minor": 0
      },
      "text/plain": [
       "Widget()"
      ]
     },
     "metadata": {},
     "output_type": "display_data"
    }
   ],
   "source": [
    "%%react\n",
    "\n",
    "import { ColorStyle, TDShapeType, Tldraw, TldrawApp } from '@tldraw/tldraw'\n",
    "import * as React from 'react'\n",
    "\n",
    "declare const window: Window & { app: TldrawApp }\n",
    "\n",
    "export default function Api() {\n",
    "  const rTldrawApp = React.useRef<TldrawApp>()\n",
    "\n",
    "  const handleMount = React.useCallback((app: TldrawApp) => {\n",
    "    rTldrawApp.current = app\n",
    "\n",
    "    window.app = app\n",
    "\n",
    "    app\n",
    "      .createShapes({\n",
    "        id: 'rect1',\n",
    "        type: TDShapeType.Rectangle,\n",
    "        point: [100, 100],\n",
    "        size: [200, 200],\n",
    "      })\n",
    "      .selectAll()\n",
    "      .nudge([1, 1], true)\n",
    "      .duplicate()\n",
    "      .select('rect1')\n",
    "      .style({ color: ColorStyle.Blue })\n",
    "      .selectNone()\n",
    "  }, [])\n",
    "\n",
    "  return (\n",
    "     <div\n",
    "      style={{\n",
    "        position: \"relative\",\n",
    "        width: \"800px\",\n",
    "        height: \"350px\"\n",
    "      }}\n",
    "    >\n",
    "      <Tldraw onMount={handleMount} />\n",
    "    </div>\n",
    "  )\n",
    "}"
   ]
  },
  {
   "cell_type": "code",
   "execution_count": null,
   "id": "60d4006f-5680-4a31-b447-b40d0f025e3d",
   "metadata": {},
   "outputs": [],
   "source": []
  }
 ],
 "metadata": {
  "kernelspec": {
   "display_name": "Python 3 (ipykernel)",
   "language": "python",
   "name": "python3"
  },
  "language_info": {
   "codemirror_mode": {
    "name": "ipython",
    "version": 3
   },
   "file_extension": ".py",
   "mimetype": "text/x-python",
   "name": "python",
   "nbconvert_exporter": "python",
   "pygments_lexer": "ipython3",
   "version": "3.11.3"
  }
 },
 "nbformat": 4,
 "nbformat_minor": 5
}
