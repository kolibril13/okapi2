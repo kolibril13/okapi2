{
 "cells": [
  {
   "cell_type": "code",
   "execution_count": 1,
   "metadata": {
    "tags": []
   },
   "outputs": [],
   "source": [
    "%load_ext ipyreact"
   ]
  },
  {
   "cell_type": "code",
   "execution_count": 2,
   "metadata": {
    "tags": []
   },
   "outputs": [
    {
     "data": {
      "text/html": [
       "<link rel=\"stylesheet\" href=\"https://unpkg.com/mafs@0.16.0/core.css\">\n"
      ],
      "text/plain": [
       "<IPython.core.display.HTML object>"
      ]
     },
     "metadata": {},
     "output_type": "display_data"
    }
   ],
   "source": [
    "%%html\n",
    "<link rel=\"stylesheet\" href=\"https://unpkg.com/mafs@0.16.0/core.css\">"
   ]
  },
  {
   "cell_type": "code",
   "execution_count": 3,
   "metadata": {
    "tags": []
   },
   "outputs": [
    {
     "data": {
      "application/vnd.jupyter.widget-view+json": {
       "model_id": "3766a6f645084bed9058380c97a7d5f8",
       "version_major": 2,
       "version_minor": 0
      },
      "text/plain": [
       "Widget()"
      ]
     },
     "metadata": {},
     "output_type": "display_data"
    }
   ],
   "source": [
    "%%react\n",
    "\n",
    "import * as React from 'react';\n",
    "import { Mafs, Coordinates } from \"mafs\"\n",
    "\n",
    "export default function HelloFx() {\n",
    "  return (\n",
    "    <Mafs>\n",
    "      <Coordinates.Cartesian />\n",
    "    </Mafs>\n",
    "  )\n",
    "}"
   ]
  },
  {
   "cell_type": "code",
   "execution_count": 4,
   "metadata": {
    "tags": []
   },
   "outputs": [
    {
     "data": {
      "application/vnd.jupyter.widget-view+json": {
       "model_id": "10327c2806d241ac9666a8c55514e98a",
       "version_major": 2,
       "version_minor": 0
      },
      "text/plain": [
       "Widget()"
      ]
     },
     "metadata": {},
     "output_type": "display_data"
    }
   ],
   "source": [
    "%%react\n",
    "\n",
    "import * as React from 'react';\n",
    "import {Mafs,Point, Circle, Plot,Theme, Coordinates, useMovablePoint, vec } from \"mafs\"\n",
    "\n",
    "export default function HelloFx() {\n",
    "  const sigmoid1 = (x: number) => 2 / (1 + Math.exp(-x)) - 1\n",
    "  return (\n",
    "    <Mafs>\n",
    "      <Coordinates.Cartesian />\n",
    "      <Plot.OfX y={Math.sin} color={Theme.blue} />\n",
    "      <Plot.OfY x={sigmoid1} color={Theme.pink} />\n",
    "    </Mafs>\n",
    "  )\n",
    "\n",
    "}"
   ]
  },
  {
   "cell_type": "code",
   "execution_count": 5,
   "metadata": {
    "tags": []
   },
   "outputs": [
    {
     "data": {
      "application/vnd.jupyter.widget-view+json": {
       "model_id": "d21a5f93f7e9419ea5ad177ee2e7bbe0",
       "version_major": 2,
       "version_minor": 0
      },
      "text/plain": [
       "Widget()"
      ]
     },
     "metadata": {},
     "output_type": "display_data"
    }
   ],
   "source": [
    "%%react\n",
    "\n",
    "import * as React from 'react';\n",
    "import {Mafs,Point, Circle, Plot,Theme, Coordinates, useMovablePoint, vec } from \"mafs\"\n",
    "\n",
    "export default function HelloFx() {\n",
    "  const sigmoid1 = (x: number) => 2 / (1 + Math.exp(-x)) - 1\n",
    "  return (\n",
    "    <Mafs>\n",
    "      <Coordinates.Cartesian />\n",
    "      <Plot.OfX y={Math.sin} color={Theme.blue} />\n",
    "      <Plot.OfY x={sigmoid1} color={Theme.pink} />\n",
    "    </Mafs>\n",
    "  )\n",
    "\n",
    "}"
   ]
  },
  {
   "cell_type": "code",
   "execution_count": 6,
   "metadata": {
    "tags": []
   },
   "outputs": [
    {
     "data": {
      "application/vnd.jupyter.widget-view+json": {
       "model_id": "f81f29d992644b708e387234de56e741",
       "version_major": 2,
       "version_minor": 0
      },
      "text/plain": [
       "Widget()"
      ]
     },
     "metadata": {},
     "output_type": "display_data"
    }
   ],
   "source": [
    "%%react\n",
    "\n",
    "import * as React from 'react';\n",
    "import Tetris  from \"react-tetris\"\n",
    "\n",
    "const App = () => (\n",
    "  <div>\n",
    "    <h1>Tetris</h1>\n",
    "    <Tetris\n",
    "      keyboardControls={{\n",
    "        // Default values shown here. These will be used if no\n",
    "        // `keyboardControls` prop is provided.\n",
    "        down: 'MOVE_DOWN',\n",
    "        left: 'MOVE_LEFT',\n",
    "        right: 'MOVE_RIGHT',\n",
    "        space: 'HARD_DROP',\n",
    "        z: 'FLIP_COUNTERCLOCKWISE',\n",
    "        x: 'FLIP_CLOCKWISE',\n",
    "        up: 'FLIP_CLOCKWISE',\n",
    "        p: 'TOGGLE_PAUSE',\n",
    "        c: 'HOLD',\n",
    "        shift: 'HOLD'\n",
    "      }}\n",
    "    >\n",
    "      {({\n",
    "        HeldPiece,\n",
    "        Gameboard,\n",
    "        PieceQueue,\n",
    "        points,\n",
    "        linesCleared,\n",
    "        state,\n",
    "        controller\n",
    "      }) => (\n",
    "        <div>\n",
    "          <HeldPiece />\n",
    "          <div>\n",
    "            <p>Points: {points}</p>\n",
    "            <p>Lines Cleared: {linesCleared}</p>\n",
    "          </div>\n",
    "          <Gameboard />\n",
    "          <PieceQueue />\n",
    "          {state === 'LOST' && (\n",
    "            <div>\n",
    "              <h2>Game Over</h2>\n",
    "              <button onClick={controller.restart}>New game</button>\n",
    "            </div>\n",
    "          )}\n",
    "        </div>\n",
    "      )}\n",
    "    </Tetris>\n",
    "  </div>\n",
    ");\n",
    "\n",
    "\n",
    "export default function HelloFx() {\n",
    "  return (\n",
    "    <div>\n",
    "      <App/>\n",
    "    </div>\n",
    "  )\n",
    "}"
   ]
  }
 ],
 "metadata": {
  "kernelspec": {
   "display_name": "Python 3 (ipykernel)",
   "language": "python",
   "name": "python3"
  },
  "language_info": {
   "codemirror_mode": {
    "name": "ipython",
    "version": 3
   },
   "file_extension": ".py",
   "mimetype": "text/x-python",
   "name": "python",
   "nbconvert_exporter": "python",
   "pygments_lexer": "ipython3",
   "version": "3.11.3"
  }
 },
 "nbformat": 4,
 "nbformat_minor": 4
}
