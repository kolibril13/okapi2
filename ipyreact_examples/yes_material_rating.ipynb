{
 "cells": [
  {
   "cell_type": "code",
   "execution_count": 1,
   "id": "e2d0e148-d4d4-4486-9090-7815c2aea964",
   "metadata": {
    "tags": []
   },
   "outputs": [],
   "source": [
    "%load_ext ipyreact"
   ]
  },
  {
   "cell_type": "markdown",
   "id": "2244b426-8df4-4cb0-bba7-c41db4176f7c",
   "metadata": {
    "tags": []
   },
   "source": [
    "# based on this tweet:\n",
    "<blockquote class=\"twitter-tweet\"><p lang=\"en\" dir=\"ltr\">Exercise for the reader:<br> • pip install ipyreact<br> • Take a <a href=\"https://twitter.com/MaterialUI?ref_src=twsrc%5Etfw\">@MaterialUI</a> example, like <br> <a href=\"https://t.co/FPXOVkjdQS\">https://t.co/FPXOVkjdQS</a><br> • Type &quot;%%react&quot; in Jupyter and paste the code after it<br> • Hit shift-enter and it *just works*</p>&mdash; Maarten A. Breddels (@maartenbreddels) <a href=\"https://twitter.com/maartenbreddels/status/1649387485170917377?ref_src=twsrc%5Etfw\">April 21, 2023</a></blockquote> <script async src=\"https://platform.twitter.com/widgets.js\" charset=\"utf-8\"></script>"
   ]
  },
  {
   "cell_type": "code",
   "execution_count": 2,
   "id": "cc7ab0d9-6af5-4f27-95ff-f8356249b5eb",
   "metadata": {
    "tags": []
   },
   "outputs": [
    {
     "data": {
      "application/vnd.jupyter.widget-view+json": {
       "model_id": "fe6c45780bd54851b6d0d5f6aabb7a18",
       "version_major": 2,
       "version_minor": 0
      },
      "text/plain": [
       "Widget()"
      ]
     },
     "metadata": {},
     "output_type": "display_data"
    }
   ],
   "source": [
    "%%react\n",
    "import * as React from 'react';\n",
    "import Box from '@mui/material/Box';\n",
    "import Rating from '@mui/material/Rating';\n",
    "import Typography from '@mui/material/Typography';\n",
    "\n",
    "export default function BasicRating() {\n",
    "  const [value, setValue] = React.useState<number | null>(2);\n",
    "\n",
    "  return (\n",
    "    <Box\n",
    "      sx={{\n",
    "        '& > legend': { mt: 2 },\n",
    "      }}\n",
    "    >\n",
    "      <Typography component=\"legend\">Controlled</Typography>\n",
    "      <Rating\n",
    "        name=\"simple-controlled\"\n",
    "        value={value}\n",
    "        onChange={(event, newValue) => {\n",
    "          setValue(newValue);\n",
    "        }}\n",
    "      />\n",
    "      <Typography component=\"legend\">Read only</Typography>\n",
    "      <Rating name=\"read-only\" value={value} readOnly />\n",
    "      <Typography component=\"legend\">Disabled</Typography>\n",
    "      <Rating name=\"disabled\" value={value} disabled />\n",
    "      <Typography component=\"legend\">No rating given</Typography>\n",
    "      <Rating name=\"no-value\" value={null} />\n",
    "    </Box>\n",
    "  );\n",
    "}\n"
   ]
  },
  {
   "cell_type": "code",
   "execution_count": null,
   "id": "92714985-77a1-4df6-af4c-9c6d19f9ebd4",
   "metadata": {},
   "outputs": [],
   "source": [
    "Image(\"https://raw.githubusercontent.com/Octoframes/jupyter_capture_output/f8968519e9ae161c56f126f8d2cf155795fdde86/assets/cute_dog.jpg\", width=300)\n"
   ]
  },
  {
   "cell_type": "code",
   "execution_count": 7,
   "id": "404fd58a-e1df-4ebf-a674-b5b1dccc248c",
   "metadata": {},
   "outputs": [
    {
     "data": {
      "application/vnd.jupyter.widget-view+json": {
       "model_id": "79d7a8eff1414ecd8c6f569c4dbf8c73",
       "version_major": 2,
       "version_minor": 0
      },
      "text/plain": [
       "Widget()"
      ]
     },
     "metadata": {},
     "output_type": "display_data"
    }
   ],
   "source": [
    "%%react\n",
    "import * as React from 'react';\n",
    "import Card from '@mui/material/Card';\n",
    "import CardActions from '@mui/material/CardActions';\n",
    "import CardContent from '@mui/material/CardContent';\n",
    "import CardMedia from '@mui/material/CardMedia';\n",
    "import Button from '@mui/material/Button';\n",
    "import Typography from '@mui/material/Typography';\n",
    "\n",
    "export default function MediaCard() {\n",
    "  return (\n",
    "    <Card sx={{ maxWidth: 500 }}>\n",
    "      <CardMedia\n",
    "        sx={{ height: 190 }}\n",
    "        image=\"https://raw.githubusercontent.com/Octoframes/jupyter_capture_output/f8968519e9ae161c56f126f8d2cf155795fdde86/assets/cute_dog.jpg\"\n",
    "        title=\"green iguana\"\n",
    "      />\n",
    "      <CardContent>\n",
    "        <Typography gutterBottom variant=\"h5\" component=\"div\">\n",
    "          Lizard\n",
    "        </Typography>\n",
    "        <Typography variant=\"body2\" color=\"text.secondary\">\n",
    "          Lizards are a widespread group of squamate reptiles, with over sdfsd\n",
    "          species, ranging across all continents except Antarctica\n",
    "        </Typography>\n",
    "      </CardContent>\n",
    "      <CardActions>\n",
    "        <Button size=\"small\">Share</Button>\n",
    "        <Button size=\"small\">Learn More</Button>\n",
    "      </CardActions>\n",
    "    </Card>\n",
    "  );\n",
    "}"
   ]
  },
  {
   "cell_type": "code",
   "execution_count": null,
   "id": "e1bd7209-a141-4e71-ae33-8b3e751283f5",
   "metadata": {},
   "outputs": [],
   "source": [
    "dfgdf"
   ]
  }
 ],
 "metadata": {
  "kernelspec": {
   "display_name": "Python 3 (ipykernel)",
   "language": "python",
   "name": "python3"
  },
  "language_info": {
   "codemirror_mode": {
    "name": "ipython",
    "version": 3
   },
   "file_extension": ".py",
   "mimetype": "text/x-python",
   "name": "python",
   "nbconvert_exporter": "python",
   "pygments_lexer": "ipython3",
   "version": "3.11.3"
  }
 },
 "nbformat": 4,
 "nbformat_minor": 5
}
