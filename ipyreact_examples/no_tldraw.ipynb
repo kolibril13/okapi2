{
 "cells": [
  {
   "cell_type": "code",
   "execution_count": 1,
   "id": "8f099b28-dcde-40ef-be26-84f442823ac2",
   "metadata": {
    "tags": []
   },
   "outputs": [],
   "source": [
    "%load_ext ipyreact"
   ]
  },
  {
   "cell_type": "markdown",
   "id": "d0f69ebd",
   "metadata": {},
   "source": [
    "from https://codesandbox.io/s/n539u?file=/src/App.tsx\n",
    "\n",
    "It works without the css, but then the menu at the top right is a bit cropped\n",
    "\n",
    "css in gist copied from https://codesandbox.io/s/n539u?file=/src/styles.css"
   ]
  },
  {
   "cell_type": "code",
   "execution_count": 2,
   "id": "8a6b68b5",
   "metadata": {},
   "outputs": [
    {
     "data": {
      "text/html": [
       "<link rel=\"stylesheet\" href=\"styles.css\">\n"
      ],
      "text/plain": [
       "<IPython.core.display.HTML object>"
      ]
     },
     "metadata": {},
     "output_type": "display_data"
    }
   ],
   "source": [
    "%%html\n",
    "<link rel=\"stylesheet\" href=\"styles.css\">"
   ]
  },
  {
   "cell_type": "code",
   "execution_count": 3,
   "id": "e84b903e-1505-4696-baba-59f937f0094f",
   "metadata": {
    "tags": []
   },
   "outputs": [
    {
     "data": {
      "application/vnd.jupyter.widget-view+json": {
       "model_id": "e8ae02e95623496bb5dde84aa60e8414",
       "version_major": 2,
       "version_minor": 0
      },
      "text/plain": [
       "Widget()"
      ]
     },
     "metadata": {},
     "output_type": "display_data"
    }
   ],
   "source": [
    "%%react\n",
    "\n",
    "import * as React from \"react\";\n",
    "import { Tldraw, TldrawApp } from \"@tldraw/tldraw\";\n",
    "\n",
    "export default function App() {\n",
    "  const persistenceId = \"tldraw-example\";\n",
    "\n",
    "  const handleMount = (app: TldrawApp) => {\n",
    "    app.selectAll()\n",
    "  };\n",
    "\n",
    "  return (\n",
    "    <div\n",
    "      style={{\n",
    "        position: \"relative\",\n",
    "        width: \"800px\",\n",
    "        height: \"350px\"\n",
    "      }}\n",
    "    >\n",
    "      <Tldraw id={persistenceId} onMount={handleMount} />\n",
    "    </div>\n",
    "  );\n",
    "}"
   ]
  },
  {
   "cell_type": "code",
   "execution_count": 10,
   "id": "7dafd9ff",
   "metadata": {},
   "outputs": [
    {
     "data": {
      "application/vnd.jupyter.widget-view+json": {
       "model_id": "cf276e5ea3634b5cb9accbe59d221e40",
       "version_major": 2,
       "version_minor": 0
      },
      "text/plain": [
       "Widget()"
      ]
     },
     "metadata": {},
     "output_type": "display_data"
    }
   ],
   "source": [
    "%%react\n",
    "\n",
    "import * as React from \"react\";\n",
    "import { Tldraw, TldrawApp } from \"@tldraw/tldraw\";\n",
    "\n",
    "export default function App() {\n",
    "  const persistenceId = \"tldraw-exampleX\";\n",
    "\n",
    "  const handleMount = (app: TldrawApp) => {\n",
    "    // create a new circle \n",
    "    app.createShape({\n",
    "      type: \"circle\",\n",
    "      x: 100,\n",
    "      y: 100,\n",
    "      radius: 50,\n",
    "      fill: \"red\",\n",
    "      stroke: \"black\",\n",
    "      strokeWidth: 2,\n",
    "    });\n",
    "    \n",
    "  };\n",
    "\n",
    "  return (\n",
    "    <div\n",
    "      style={{\n",
    "        position: \"relative\",\n",
    "        width: \"800px\",\n",
    "        height: \"350px\"\n",
    "      }}\n",
    "    >\n",
    "      <Tldraw id={persistenceId} onMount={handleMount} />\n",
    "    </div>\n",
    "  );\n",
    "}"
   ]
  },
  {
   "cell_type": "code",
   "execution_count": 4,
   "id": "9eb5ab7c",
   "metadata": {
    "tags": []
   },
   "outputs": [
    {
     "data": {
      "application/vnd.jupyter.widget-view+json": {
       "model_id": "9ee6fe7dadd0423c80b97e3f4a063e3a",
       "version_major": 2,
       "version_minor": 0
      },
      "text/plain": [
       "Tldraw()"
      ]
     },
     "execution_count": 4,
     "metadata": {},
     "output_type": "execute_result"
    }
   ],
   "source": [
    "import ipyreact\n",
    "\n",
    "\n",
    "class Tldraw(ipyreact.ReactWidget):\n",
    "    _esm = \"\"\"\n",
    "    import * as React from \"react\";\n",
    "    import { Tldraw, TldrawApp } from \"@tldraw/tldraw\";\n",
    "\n",
    "    export default function App() {\n",
    "    const persistenceId = \"tldraw-example1\";\n",
    "\n",
    "    const handleMount = (app: TldrawApp) => {\n",
    "        // You can use the app API here! e.g. app.selectAll()\n",
    "    };\n",
    "\n",
    "    return (\n",
    "        <div\n",
    "        style={{\n",
    "            position: \"relative\",\n",
    "            width: \"800px\",\n",
    "            height: \"350px\"\n",
    "        }}\n",
    "        >\n",
    "        <Tldraw id={persistenceId} onMount={handleMount} />\n",
    "        </div>\n",
    "    );\n",
    "    }\"\"\"\n",
    "Tldraw()"
   ]
  },
  {
   "cell_type": "code",
   "execution_count": 55,
   "id": "c1f00e3e",
   "metadata": {},
   "outputs": [
    {
     "data": {
      "application/vnd.jupyter.widget-view+json": {
       "model_id": "8773d55e304d4dd48e2a93e8f9155728",
       "version_major": 2,
       "version_minor": 0
      },
      "text/plain": [
       "Widget()"
      ]
     },
     "metadata": {},
     "output_type": "display_data"
    }
   ],
   "source": [
    "%%react\n",
    "\n",
    "import * as React from \"react\";\n",
    "import { Tldraw, TldrawApp } from \"@tldraw/tldraw\";\n",
    "\n",
    "export default function App() {\n",
    "  const persistenceId = \"tldraw-example\";\n",
    "\n",
    "const handleMount = (app: App) => {\n",
    "    // Create a shape id\n",
    "    const id = app.createShapeId('hello')\n",
    "\n",
    "    // Create a shape\n",
    "    app.createShapes([\n",
    "        {\n",
    "            id,\n",
    "            type: 'geo',\n",
    "            x: 128 + Math.random() * 500,\n",
    "            y: 128 + Math.random() * 500,\n",
    "            props: {\n",
    "                geo: 'rectangle',\n",
    "                w: 100,\n",
    "                h: 100,\n",
    "                dash: 'draw',\n",
    "                color: 'blue',\n",
    "                size: 'm',\n",
    "            },\n",
    "        },\n",
    "    ])\n",
    "\n",
    "    // Get the created shape\n",
    "    const shape = app.getShapeById<TLGeoShape>(id)!\n",
    "\n",
    "    // Update the shape\n",
    "    app.updateShapes([\n",
    "        {\n",
    "            id,\n",
    "            type: 'geo',\n",
    "            props: {\n",
    "                h: shape.props.h * 3,\n",
    "                text: 'hello world!',\n",
    "            },\n",
    "        },\n",
    "    ])\n",
    "\n",
    "    // Select the shape\n",
    "    app.select(id)\n",
    "\n",
    "    // Rotate the shape around its center\n",
    "    app.rotateShapesBy([id], Math.PI / 8)\n",
    "\n",
    "    // Clear the selection\n",
    "    app.selectNone()\n",
    "\n",
    "    // Zoom the camera to fit both shapes\n",
    "    app.zoomToFit()\n",
    "}\n",
    "\n",
    "\n",
    "\n",
    "\treturn (\n",
    "\t\t<div className=\"tldraw__editor\" style={{\n",
    "        position: \"relative\",\n",
    "        width: \"800px\",\n",
    "        height: \"350px\"\n",
    "      }}\n",
    "    >\n",
    "\t\t\t<Tldraw onMount={handleMount}>\n",
    "\t\t\t</Tldraw>\n",
    "\t\t</div>\n",
    "\t)\n",
    "\n",
    "}\n",
    "\n"
   ]
  },
  {
   "cell_type": "code",
   "execution_count": 13,
   "id": "4aef8fff",
   "metadata": {},
   "outputs": [
    {
     "data": {
      "application/vnd.jupyter.widget-view+json": {
       "model_id": "e394a394110d49c89128d0ab221c1d10",
       "version_major": 2,
       "version_minor": 0
      },
      "text/plain": [
       "Widget()"
      ]
     },
     "metadata": {},
     "output_type": "display_data"
    }
   ],
   "source": [
    "%%react\n",
    "\n",
    "import * as React from \"react\";\n",
    "import { Tldraw, TldrawApp } from \"@tldraw/tldraw\";\n",
    "\n",
    "export default function App() {\n",
    "  const persistenceId = \"tldraw-exampleX\"\n",
    "\n",
    "  const handleMount = (app: TldrawApp) => {\n",
    "  # creat a rectangle using the app.createShapes method\n",
    "  app.createShapes([\n",
    "    {\n",
    "      id: app.createShapeId('rectangle'),\n",
    "      type: 'geo',\n",
    "      x: 128 + Math.random() * 500,\n",
    "      y: 128 + Math.random() * 500,\n",
    "      props: {\n",
    "        geo: 'rectangle',\n",
    "        w: 100,\n",
    "        h: 100,\n",
    "        dash: 'draw',\n",
    "        color: 'blue',\n",
    "        size: 'm',\n",
    "      },\n",
    "    },\n",
    "  ])\n",
    "  }\n",
    "\n",
    "  return (\n",
    "    <div\n",
    "      style={{\n",
    "        position: \"relative\",\n",
    "        width: \"800px\",\n",
    "        height: \"350px\"\n",
    "      }}\n",
    "    >\n",
    "      <Tldraw id={persistenceId} onMount={handleMount} />\n",
    "    </div>\n",
    "  );\n",
    "}\n",
    "\n",
    "\n"
   ]
  },
  {
   "cell_type": "code",
   "execution_count": 18,
   "id": "4bde4a27",
   "metadata": {},
   "outputs": [
    {
     "data": {
      "application/vnd.jupyter.widget-view+json": {
       "model_id": "76d8b5b662ab491cbff4ae7a929409ee",
       "version_major": 2,
       "version_minor": 0
      },
      "text/plain": [
       "Widget()"
      ]
     },
     "metadata": {},
     "output_type": "display_data"
    }
   ],
   "source": [
    "%%react\n",
    "\n",
    "import * as React from \"react\";\n",
    "import { Tldraw, TldrawApp } from \"@tldraw/tldraw\";\n",
    "\n",
    "export default function App() {\n",
    "  const persistenceId = \"tldraw-exampleXX\";\n",
    "\n",
    "  const handleMount = (app: TldrawApp) => {\n",
    "  app.createShapes({ id: arrowId, type: 'arrow' \n",
    "  })\n",
    "\n",
    "\n",
    "  return (\n",
    "    <div\n",
    "      style={{\n",
    "        position: \"relative\",\n",
    "        width: \"800px\",\n",
    "        height: \"350px\"\n",
    "      }}\n",
    "    >\n",
    "      <Tldraw id={persistenceId} onMount={handleMount} />\n",
    "    </div>\n",
    "  );\n",
    "}"
   ]
  },
  {
   "cell_type": "code",
   "execution_count": 46,
   "id": "117fe0e2",
   "metadata": {},
   "outputs": [
    {
     "data": {
      "application/vnd.jupyter.widget-view+json": {
       "model_id": "ef2f35fbd1144ae1aa9e9a96ad207f27",
       "version_major": 2,
       "version_minor": 0
      },
      "text/plain": [
       "Widget()"
      ]
     },
     "metadata": {},
     "output_type": "display_data"
    }
   ],
   "source": [
    "%%react\n",
    "\n",
    "import * as React from \"react\";\n",
    "import { Tldraw, TldrawApp } from \"@tldraw/tldraw\";\n",
    "\n",
    "export default function App() {\n",
    "  const persistenceId = \"tldraw-exampleSO\";\n",
    "\n",
    "  const handleMount = (app: TldrawApp) => {\n",
    "    app.createShapes({ \n",
    "    id: 'myrectangle', \n",
    "    type: 'rectangle' ,\n",
    "     x: 20,\n",
    "     y: 20,\n",
    "      props: {\n",
    "        geo: 'rectangle',\n",
    "        w: 100,\n",
    "        h: 100,\n",
    "        dash: 'draw',\n",
    "        color: 'blue',\n",
    "        size: 'm',\n",
    "      }      \n",
    "    })\n",
    "  };\n",
    "\n",
    "  return (\n",
    "    <div\n",
    "      style={{\n",
    "        position: \"relative\",\n",
    "        width: \"800px\",\n",
    "        height: \"350px\"\n",
    "      }}\n",
    "    >\n",
    "      <Tldraw id={persistenceId} onMount={handleMount} />\n",
    "    </div>\n",
    "  );\n",
    "}\n",
    "\n"
   ]
  },
  {
   "cell_type": "code",
   "execution_count": 51,
   "id": "32957c6f",
   "metadata": {},
   "outputs": [
    {
     "data": {
      "application/vnd.jupyter.widget-view+json": {
       "model_id": "36b410118e3249c5aec910c0c326bd88",
       "version_major": 2,
       "version_minor": 0
      },
      "text/plain": [
       "Widget()"
      ]
     },
     "metadata": {},
     "output_type": "display_data"
    }
   ],
   "source": [
    "%%react\n",
    "\n",
    "import * as React from \"react\";\n",
    "import { Tldraw, TldrawApp } from \"@tldraw/tldraw\";\n",
    "\n",
    "export default function App() {\n",
    "  const persistenceId = \"tldraw-exampleSO\";\n",
    "\n",
    "  const handleMount = (app: TldrawApp) => {\n",
    "  # create a rectangle using the app.createShapes method that is 100x100 and has a blue border\n",
    "\n",
    "\n",
    "\n",
    "\n",
    "  }\n",
    "\n",
    "  return (\n",
    "    <div\n",
    "      style={{\n",
    "        position: \"relative\",\n",
    "        width: \"800px\",\n",
    "        height: \"350px\"\n",
    "      }}\n",
    "    >\n",
    "      <Tldraw id={persistenceId} onMount={handleMount} />\n",
    "    </div>\n",
    "  )\n",
    "}"
   ]
  },
  {
   "cell_type": "code",
   "execution_count": 54,
   "id": "21dcfd5c",
   "metadata": {},
   "outputs": [
    {
     "data": {
      "application/vnd.jupyter.widget-view+json": {
       "model_id": "489af22a8b054b2fab6cfdae151a20ed",
       "version_major": 2,
       "version_minor": 0
      },
      "text/plain": [
       "Widget()"
      ]
     },
     "metadata": {},
     "output_type": "display_data"
    }
   ],
   "source": [
    "%%react\n",
    "\n",
    "import * as React from \"react\";\n",
    "import { Tldraw, TldrawApp } from \"@tldraw/tldraw\";\n",
    "\n",
    "export default function App() {\n",
    "  const persistenceId = \"tldraw-examplecccc\";\n",
    "\n",
    "  const handleMount = (app: TldrawApp) => {\n",
    "app.createShapes([\n",
    "    {\n",
    "        id: app.createShapeId(),\n",
    "        type: 'geo',\n",
    "        x: 0,\n",
    "        y: 0,\n",
    "        props: {\n",
    "            geo: 'rectangle',\n",
    "            w: 100,\n",
    "            h: 100,\n",
    "            dash: 'draw',\n",
    "            color: 'blue',\n",
    "            size: 'm',\n",
    "        },\n",
    "    },\n",
    "])\n",
    "\n",
    "\n",
    "  };\n",
    "\n",
    "  return (\n",
    "    <div\n",
    "      style={{\n",
    "        position: \"relative\",\n",
    "        width: \"800px\",\n",
    "        height: \"350px\"\n",
    "      }}\n",
    "    >\n",
    "      <Tldraw id={persistenceId} onMount={handleMount} />\n",
    "    </div>\n",
    "  );\n",
    "}"
   ]
  },
  {
   "cell_type": "code",
   "execution_count": null,
   "id": "c4588f16",
   "metadata": {},
   "outputs": [],
   "source": []
  }
 ],
 "metadata": {
  "kernelspec": {
   "display_name": "Python 3 (ipykernel)",
   "language": "python",
   "name": "python3"
  },
  "language_info": {
   "codemirror_mode": {
    "name": "ipython",
    "version": 3
   },
   "file_extension": ".py",
   "mimetype": "text/x-python",
   "name": "python",
   "nbconvert_exporter": "python",
   "pygments_lexer": "ipython3",
   "version": "3.11.3"
  }
 },
 "nbformat": 4,
 "nbformat_minor": 5
}
