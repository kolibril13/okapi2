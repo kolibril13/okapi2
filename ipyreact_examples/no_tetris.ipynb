{
 "cells": [
  {
   "cell_type": "code",
   "execution_count": null,
   "metadata": {},
   "outputs": [],
   "source": [
    "%load_ext ipyreact"
   ]
  },
  {
   "cell_type": "code",
   "execution_count": null,
   "metadata": {},
   "outputs": [],
   "source": [
    "%%react\n",
    "\n",
    "import * as React from 'react';\n",
    "import Tetris  from \"react-tetris\"\n",
    "\n",
    "const App = () => (\n",
    "  <div>\n",
    "    <h1>Tetris</h1>\n",
    "    <Tetris\n",
    "      keyboardControls={{\n",
    "        // Default values shown here. These will be used if no\n",
    "        // `keyboardControls` prop is provided.\n",
    "        down: 'MOVE_DOWN',\n",
    "        left: 'MOVE_LEFT',\n",
    "        right: 'MOVE_RIGHT',\n",
    "        space: 'HARD_DROP',\n",
    "        z: 'FLIP_COUNTERCLOCKWISE',\n",
    "        x: 'FLIP_CLOCKWISE',\n",
    "        up: 'FLIP_CLOCKWISE',\n",
    "        p: 'TOGGLE_PAUSE',\n",
    "        c: 'HOLD',\n",
    "        shift: 'HOLD'\n",
    "      }}\n",
    "    >\n",
    "      {({\n",
    "        HeldPiece,\n",
    "        Gameboard,\n",
    "        PieceQueue,\n",
    "        points,\n",
    "        linesCleared,\n",
    "        state,\n",
    "        controller\n",
    "      }) => (\n",
    "        <div>\n",
    "          <HeldPiece />\n",
    "          <div>\n",
    "            <p>Points: {points}</p>\n",
    "            <p>Lines Cleared: {linesCleared}</p>\n",
    "          </div>\n",
    "          <Gameboard />\n",
    "          <PieceQueue />\n",
    "          {state === 'LOST' && (\n",
    "            <div>\n",
    "              <h2>Game Over</h2>\n",
    "              <button onClick={controller.restart}>New game</button>\n",
    "            </div>\n",
    "          )}\n",
    "        </div>\n",
    "      )}\n",
    "    </Tetris>\n",
    "  </div>\n",
    ");\n",
    "\n",
    "\n",
    "export default function HelloFx() {\n",
    "  return (\n",
    "    <div>\n",
    "      <App/>\n",
    "    </div>\n",
    "  )\n",
    "}"
   ]
  },
  {
   "cell_type": "code",
   "execution_count": null,
   "metadata": {},
   "outputs": [],
   "source": []
  }
 ],
 "metadata": {
  "kernelspec": {
   "display_name": "Python 3 (ipykernel)",
   "language": "python",
   "name": "python3"
  },
  "language_info": {
   "codemirror_mode": {
    "name": "ipython",
    "version": 3
   },
   "file_extension": ".py",
   "mimetype": "text/x-python",
   "name": "python",
   "nbconvert_exporter": "python",
   "pygments_lexer": "ipython3",
   "version": "3.9.15"
  }
 },
 "nbformat": 4,
 "nbformat_minor": 4
}
